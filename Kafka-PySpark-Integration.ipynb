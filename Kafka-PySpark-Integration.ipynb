{
 "cells": [
  {
   "cell_type": "markdown",
   "id": "b9e32795-efee-4635-ab3b-96a69ac3e973",
   "metadata": {},
   "source": [
    "## Kafka PySpark Integration"
   ]
  },
  {
   "cell_type": "code",
   "execution_count": 1,
   "id": "5172de34-9787-4f22-b1a7-8e9bb3b7cbf3",
   "metadata": {},
   "outputs": [],
   "source": [
    "# Add kafka spark jar for kafka-spark Integration\n",
    "# Docs - https://spark.apache.org/docs/latest/structured-streaming-kafka-integration.html\n",
    "import os\n",
    "os.environ['PYSPARK_SUBMIT_ARGS'] = '--packages org.apache.spark:spark-sql-kafka-0-10_2.13:3.3.0 pyspark-shell'"
   ]
  },
  {
   "cell_type": "code",
   "execution_count": 2,
   "id": "e14c6950-525d-4e54-a25e-13e9d6818c67",
   "metadata": {},
   "outputs": [],
   "source": [
    "# Import required modules\n",
    "from pyspark.streaming import StreamingContext\n",
    "from pyspark.sql import SparkSession\n",
    "from pyspark.sql.types import StructType,StructField, StringType, DoubleType\n",
    "from pyspark.sql.functions import col,from_json"
   ]
  },
  {
   "cell_type": "code",
   "execution_count": 3,
   "id": "3a424b09-b1ea-439c-9ef9-e6079ef5a3f7",
   "metadata": {},
   "outputs": [
    {
     "data": {
      "text/plain": [
       "'3.3.0'"
      ]
     },
     "execution_count": 3,
     "metadata": {},
     "output_type": "execute_result"
    }
   ],
   "source": [
    "# Check pyspark version\n",
    "import pyspark\n",
    "pyspark.__version__"
   ]
  },
  {
   "cell_type": "code",
   "execution_count": 4,
   "id": "a35f1973-363c-4112-8440-62fca2410984",
   "metadata": {},
   "outputs": [],
   "source": [
    "# Create SparkSession\n",
    "spark = SparkSession \\\n",
    "    .builder \\\n",
    "    .appName(\"KafkaPysparkExample\") \\\n",
    "    .getOrCreate()"
   ]
  },
  {
   "cell_type": "code",
   "execution_count": 5,
   "id": "fa0de89c-e700-4754-9175-d95777b95a18",
   "metadata": {},
   "outputs": [],
   "source": [
    "# Read Kafka Spark Structured Stream\n",
    "df = spark \\\n",
    "  .readStream \\\n",
    "  .format(\"kafka\") \\\n",
    "  .option(\"kafka.bootstrap.servers\", \"kafka:9092\") \\\n",
    "  .option(\"subscribe\", \"iot_sim_test\") \\\n",
    "  .load()"
   ]
  },
  {
   "cell_type": "code",
   "execution_count": 6,
   "id": "e7f59f6a-d5a8-441a-9524-2ad7008e68cd",
   "metadata": {},
   "outputs": [],
   "source": [
    "# Read Kafka Spark Structured Stream\n",
    "df = spark \\\n",
    "  .readStream \\\n",
    "  .format(\"kafka\") \\\n",
    "  .option(\"kafka.bootstrap.servers\", \"kafka:9092\") \\\n",
    "  .option(\"subscribe\", \"iot_sim_test\") \\\n",
    "  .load()"
   ]
  },
  {
   "cell_type": "code",
   "execution_count": 7,
   "id": "78a505e1-6004-48ab-8275-0cdb96de583a",
   "metadata": {},
   "outputs": [],
   "source": [
    "raw_df = df.selectExpr(\"CAST(value AS STRING)\")"
   ]
  },
  {
   "cell_type": "code",
   "execution_count": null,
   "id": "c2736e4d-0f63-44c9-b4ae-fd1a434edc52",
   "metadata": {},
   "outputs": [],
   "source": []
  },
  {
   "cell_type": "code",
   "execution_count": 8,
   "id": "c92c2301-7f4c-48fd-8e5a-cc12384ad834",
   "metadata": {},
   "outputs": [],
   "source": [
    "# Define Schema for input json\n",
    "payload_schema = StructType([\n",
    "    StructField(\"data\", StructType([\n",
    "        StructField(\"temperature\", DoubleType(), True)\n",
    "    ]), True)\n",
    "])\n",
    "\n",
    "schema = StructType([ \n",
    "    StructField(\"guid\",StringType(),True), \n",
    "    StructField(\"destination\",StringType(),True), \n",
    "    StructField(\"state\",StringType(),True), \n",
    "    StructField(\"eventTime\",StringType(),True), \n",
    "    StructField(\"payload\",payload_schema,True)\n",
    "  ])"
   ]
  },
  {
   "cell_type": "code",
   "execution_count": 9,
   "id": "7bcc58eb-a9b5-4760-8c09-abe6bdd117b1",
   "metadata": {},
   "outputs": [
    {
     "name": "stdout",
     "output_type": "stream",
     "text": [
      "root\n",
      " |-- guid: string (nullable = true)\n",
      " |-- destination: string (nullable = true)\n",
      " |-- state: string (nullable = true)\n",
      " |-- eventTime: string (nullable = true)\n",
      " |-- payload: struct (nullable = true)\n",
      " |    |-- data: struct (nullable = true)\n",
      " |    |    |-- temperature: double (nullable = true)\n",
      "\n"
     ]
    }
   ],
   "source": [
    "# Parse json column in a dataframe\n",
    "raw_df = raw_df.withColumn(\"jsonData\",from_json(col(\"value\"),schema)) \\\n",
    "                   .select(\"jsonData.*\")\n",
    "raw_df.printSchema()\n",
    "# raw_df.show(truncate=False)"
   ]
  },
  {
   "cell_type": "code",
   "execution_count": 10,
   "id": "f9734cc6-fd90-4f32-aa7f-dafcf5bc5688",
   "metadata": {},
   "outputs": [],
   "source": [
    "# Rename column and extract relevant column\n",
    "raw_df_temp_state = raw_df.select(col(\"payload.data.temperature\").alias(\"temperature\"), col(\"state\"))"
   ]
  },
  {
   "cell_type": "code",
   "execution_count": 11,
   "id": "16da9087-67a4-4f16-8325-7d25dcd8d5aa",
   "metadata": {},
   "outputs": [],
   "source": [
    "# Calculate average temperature by State\n",
    "avg_temp_state = raw_df_temp_state.groupby(\"state\").mean(\"temperature\")"
   ]
  },
  {
   "cell_type": "code",
   "execution_count": 12,
   "id": "b3946d80-165e-47a5-a921-56e3d6e675d2",
   "metadata": {},
   "outputs": [
    {
     "data": {
      "text/plain": [
       "<pyspark.sql.streaming.StreamingQuery at 0x7f28d071fc40>"
      ]
     },
     "execution_count": 12,
     "metadata": {},
     "output_type": "execute_result"
    }
   ],
   "source": [
    "avg_temp_state.writeStream.outputMode(\"complete\").format(\"console\").start()\n",
    "# .awaitTermination()"
   ]
  },
  {
   "cell_type": "code",
   "execution_count": null,
   "id": "491ce810-4a96-4212-983d-93cfd22dc860",
   "metadata": {},
   "outputs": [],
   "source": []
  }
 ],
 "metadata": {
  "kernelspec": {
   "display_name": "Python 3 (ipykernel)",
   "language": "python",
   "name": "python3"
  },
  "language_info": {
   "codemirror_mode": {
    "name": "ipython",
    "version": 3
   },
   "file_extension": ".py",
   "mimetype": "text/x-python",
   "name": "python",
   "nbconvert_exporter": "python",
   "pygments_lexer": "ipython3",
   "version": "3.10.5"
  }
 },
 "nbformat": 4,
 "nbformat_minor": 5
}
